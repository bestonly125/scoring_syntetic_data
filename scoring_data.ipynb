{
 "cells": [
  {
   "cell_type": "code",
   "execution_count": 1,
   "metadata": {
    "pycharm": {
     "name": "#%%\n"
    }
   },
   "outputs": [],
   "source": [
    "from openpyxl import load_workbook\n",
    "import numpy as np\n",
    "import hashlib"
   ]
  },
  {
   "cell_type": "code",
   "execution_count": 2,
   "metadata": {
    "pycharm": {
     "name": "#%%\n"
    }
   },
   "outputs": [],
   "source": [
    "n = 500000\n",
    "salt = np.random.randint(1000000000,9999999999)\n",
    "wb = load_workbook(\"scoring_data.xlsx\")\n",
    "ws1 = wb[\"A1\"] #начальный отчет\n",
    "ws2 = wb[\"A2\"] #обогащенный набор"
   ]
  },
  {
   "cell_type": "markdown",
   "metadata": {
    "pycharm": {
     "name": "#%% md\n"
    }
   },
   "source": [
    "# Для частотности данных было выбрано распределе́ние Коши́"
   ]
  },
  {
   "cell_type": "code",
   "execution_count": 3,
   "metadata": {
    "pycharm": {
     "name": "#%%\n"
    }
   },
   "outputs": [],
   "source": [
    "def cauchy_f(n=1000):\n",
    "    s_cauchy = np.random.standard_cauchy(n)\n",
    "    c_min = min(s_cauchy)\n",
    "    c_max = max(s_cauchy)\n",
    "    res = -100 * c_min / c_max\n",
    "    return round(res)"
   ]
  },
  {
   "cell_type": "markdown",
   "metadata": {
    "pycharm": {
     "name": "#%% md\n"
    }
   },
   "source": [
    " # Мобильные номера России: коды по регионам Москвы"
   ]
  },
  {
   "cell_type": "code",
   "execution_count": 4,
   "metadata": {
    "pycharm": {
     "name": "#%%\n"
    }
   },
   "outputs": [],
   "source": [
    "def region_code(mob_op:int=3):\n",
    "    # cписок кодов зарегистрированы в Москве\n",
    "    reg_code_mts = [910, 915, 916, 917, 919, 985, 986]\n",
    "    reg_code_beeline = [903, 905, 906, 909, 962, 963, 964, 965, 966, 967, 968, 969, 980, 983, 986]\n",
    "    reg_code_megafon = [925, 926, 929, 936, 999]\n",
    "    reg_code_tele2 = [901, 958, 977, 999]\n",
    "    reg_code_yota = [995, 996, 999]\n",
    "\n",
    "    reg_code = [reg_code_mts, reg_code_beeline, reg_code_megafon, reg_code_tele2, reg_code_yota]\n",
    "\n",
    "    op_code = np.random.randint(0,len(reg_code[mob_op]))\n",
    "\n",
    "    return reg_code[mob_op][op_code] * 10000000"
   ]
  },
  {
   "cell_type": "markdown",
   "metadata": {
    "pycharm": {
     "name": "#%% md\n"
    }
   },
   "source": [
    "# Начальный отчет и обезличенный набор"
   ]
  },
  {
   "cell_type": "code",
   "execution_count": 5,
   "metadata": {
    "pycharm": {
     "name": "#%%\n"
    }
   },
   "outputs": [],
   "source": [
    "def title_a(row:int):\n",
    "    num_cauchy = cauchy_f()\n",
    "\n",
    "    # частотность орентирована по нормалному распределению Коши\n",
    "    if (num_cauchy > 0) and (num_cauchy < 999):\n",
    "        mob_op = np.random.randint(0,2)\n",
    "        t_number = np.random.randint(80005999999, 80009999999) + region_code(mob_op)\n",
    "    elif (num_cauchy > 1000) and (num_cauchy < 9999):\n",
    "        mob_op = np.random.randint(2, 4)\n",
    "        t_number = np.random.randint(80001159999, 80001199999) + region_code(mob_op)\n",
    "    elif (num_cauchy > 10000) and (num_cauchy < 99999):\n",
    "        t_number = np.random.randint(80001115999, 80001119999) + region_code()\n",
    "    else:\n",
    "        mob_op = np.random.randint(0, 4)\n",
    "        t_number = np.random.randint(80001111500, 80001111999) + region_code(mob_op)\n",
    "    # генерация соли\n",
    "    secret = salt\n",
    "    # скоринговый балл\n",
    "    scoring_score = round(np.random.uniform(),3)\n",
    "\n",
    "    # начальный отчет\n",
    "    ws1[\"A\" + str(row)] = t_number\n",
    "    ws1[\"B\" + str(row)] = scoring_score\n",
    "    ws1[\"C\" + str(row)] = secret\n",
    "\n",
    "    # обогащенный набор\n",
    "    ws2[\"A\" + str(row)] = hashlib.md5(str(t_number + secret).encode('utf-8')).hexdigest()\n",
    "    ws2[\"B\" + str(row)] = scoring_score"
   ]
  },
  {
   "cell_type": "code",
   "execution_count": null,
   "metadata": {
    "pycharm": {
     "name": "#%%\n"
    }
   },
   "outputs": [
    {
     "name": "stdout",
     "output_type": "stream",
     "text": [
      "100000\n",
      "200000\n",
      "300000\n",
      "400000\n"
     ]
    }
   ],
   "source": [
    "for i in range(2, n+2):\n",
    "    title_a(i)\n",
    "    if i % 100000 == 0:\n",
    "        print(i)\n",
    "wb.save(filename=\"scoring_data_v.0.3.2.xlsx\")\n",
    "print(\"Save result in scoring_data_v.0.3.2.xlsx\")"
   ]
  },
  {
   "cell_type": "code",
   "execution_count": null,
   "metadata": {
    "pycharm": {
     "name": "#%%\n"
    }
   },
   "outputs": [],
   "source": []
  }
 ],
 "metadata": {
  "kernelspec": {
   "display_name": "Python 3 (ipykernel)",
   "language": "python",
   "name": "python3"
  },
  "language_info": {
   "codemirror_mode": {
    "name": "ipython",
    "version": 3
   },
   "file_extension": ".py",
   "mimetype": "text/x-python",
   "name": "python",
   "nbconvert_exporter": "python",
   "pygments_lexer": "ipython3",
   "version": "3.8.10"
  }
 },
 "nbformat": 4,
 "nbformat_minor": 1
}
